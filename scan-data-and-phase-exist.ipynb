{
 "cells": [
  {
   "cell_type": "code",
   "execution_count": null,
   "metadata": {},
   "outputs": [],
   "source": [
    "import numpy as np\n",
    "from obspy import UTCDateTime as utc\n",
    "from obspy.imaging.scripts import scan as obscan\n",
    "from obspy import read_events\n"
   ]
  },
  {
   "cell_type": "code",
   "execution_count": null,
   "metadata": {},
   "outputs": [],
   "source": [
    "import warnings\n",
    "warnings.filterwarnings('ignore')"
   ]
  },
  {
   "cell_type": "code",
   "execution_count": null,
   "metadata": {},
   "outputs": [],
   "source": [
    "def check_exist_data_in_time(info, tr_id, time):\n",
    "    exist = False\n",
    "    station_info = info.get(tr_id, False)\n",
    "    if station_info==False:\n",
    "        pass\n",
    "        # print('not exist!')\n",
    "    else:\n",
    "        for space in station_info['data_startends_compressed']:\n",
    "            start, end = space\n",
    "            if start <= time.matplotlib_date <= end:\n",
    "                exist = True\n",
    "                break\n",
    "    return exist"
   ]
  },
  {
   "cell_type": "code",
   "execution_count": null,
   "metadata": {},
   "outputs": [],
   "source": [
    "d = {'sdf': 2, 'ksjjfhhwl': 4}\n",
    "d.get('*fhh*')"
   ]
  },
  {
   "cell_type": "code",
   "execution_count": null,
   "metadata": {},
   "outputs": [],
   "source": [
    "def check_exist_data_in_time_2(info, tr_station, time):\n",
    "    keys = info.keys()\n",
    "    target_keys = []\n",
    "    for key in keys:\n",
    "        if (tr_station in key) and key.endswith('Z'):\n",
    "            target_keys.append(key)\n",
    "    exist = False\n",
    "    for key in target_keys:\n",
    "        station_info = info.get(key, False)\n",
    "        for space in station_info['data_startends_compressed']:\n",
    "            start, end = space\n",
    "            if start <= time.matplotlib_date <= end:\n",
    "                exist = True\n",
    "                break\n",
    "        if exist:\n",
    "            break\n",
    "    return exist"
   ]
  },
  {
   "cell_type": "code",
   "execution_count": null,
   "metadata": {},
   "outputs": [],
   "source": [
    "import MyFuncs as mf\n",
    "import glob"
   ]
  },
  {
   "cell_type": "code",
   "execution_count": null,
   "metadata": {},
   "outputs": [],
   "source": [
    "path_cat = '/home/ekarkooti/Documents/JSEE/SeisBench-JSEE_1402-08-16/IIEES_2006-2023/BIN_2004_2024-Cleaned.out'\n",
    "cat = read_events(path_cat)"
   ]
  },
  {
   "cell_type": "code",
   "execution_count": null,
   "metadata": {},
   "outputs": [],
   "source": [
    "Details_lst_filenames = glob.glob(f'../IIEES_2006-2023/Details/*')"
   ]
  },
  {
   "cell_type": "code",
   "execution_count": null,
   "metadata": {},
   "outputs": [],
   "source": [
    "eventid2catalog = mf.funcs.eventid2catalog(Details_lst_filenames, cat)"
   ]
  },
  {
   "cell_type": "code",
   "execution_count": null,
   "metadata": {},
   "outputs": [],
   "source": [
    "scanner = obscan.Scanner()"
   ]
  },
  {
   "cell_type": "code",
   "execution_count": null,
   "metadata": {},
   "outputs": [],
   "source": [
    "input_path = '/home/ekarkooti/Documents/JSEE/SeisBench-JSEE_1402-08-16/IIEES_2006-2023/Waveforms/'"
   ]
  },
  {
   "cell_type": "code",
   "execution_count": null,
   "metadata": {},
   "outputs": [],
   "source": [
    "# scanner.parse(input_path)\n",
    "# scanner.save_npz('test.mseed')\n",
    "###\n",
    "scanner.load_npz('test.mseed.npz')"
   ]
  },
  {
   "cell_type": "code",
   "execution_count": null,
   "metadata": {},
   "outputs": [],
   "source": [
    "fig = scanner.plot()"
   ]
  },
  {
   "cell_type": "code",
   "execution_count": null,
   "metadata": {},
   "outputs": [],
   "source": [
    "info = scanner._info\n",
    "info.keys()"
   ]
  },
  {
   "cell_type": "code",
   "execution_count": null,
   "metadata": {},
   "outputs": [],
   "source": [
    "cat2 = eventid2catalog.values()"
   ]
  },
  {
   "cell_type": "code",
   "execution_count": null,
   "metadata": {},
   "outputs": [],
   "source": [
    "lst_station_name = ['KHRK', 'JSSH', 'ABGH', 'KAGH', 'GTMR', 'SRSL', 'ILBA',\n",
    "                    'GIDE', 'YZKH', 'BSRN', 'AHRM', 'CHBR', 'TABS', 'SHRT',\n",
    "                    'SHRO', 'KHMZ', 'RMKL', 'ZNJK', 'BJRD', 'MRVT', 'GHVR',\n",
    "                    'SHGR', 'KRBR', 'CHTH', 'MAKU', 'SNGE', 'DAMV', 'BNDS',\n",
    "                    'GRMI', 'GHIR', 'ZHSF', 'THKV', 'NASN', 'ASAO', 'SHRD']"
   ]
  },
  {
   "cell_type": "code",
   "execution_count": null,
   "metadata": {},
   "outputs": [],
   "source": [
    "lst_result = []\n",
    "len_total = len(cat2)\n",
    "for index, ev in enumerate(cat2):\n",
    "    print(f'{index/len_total*100:.2f}%', end=' ')\n",
    "    for pick in ev.picks:\n",
    "        if pick.phase_hint == 'IAML':\n",
    "            continue\n",
    "        tr_id = pick.waveform_id.id\n",
    "        station = pick.waveform_id.station_code\n",
    "        channel = pick.waveform_id.channel_code\n",
    "        if not station in lst_station_name:\n",
    "            continue\n",
    "        # print(tr_station, tr_channel[-1])\n",
    "        pick_time = pick.time\n",
    "        check = check_exist_data_in_time_2(info=info,\n",
    "                                           tr_station=station,\n",
    "                                           time=pick_time)\n",
    "        lst_result.append(check)\n",
    "        # print(tr_id, pick_time, check)"
   ]
  },
  {
   "cell_type": "code",
   "execution_count": null,
   "metadata": {},
   "outputs": [],
   "source": [
    "len(lst_result), sum(lst_result)"
   ]
  }
 ],
 "metadata": {
  "kernelspec": {
   "display_name": "SeisBench_v0.5.3",
   "language": "python",
   "name": "python3"
  },
  "language_info": {
   "codemirror_mode": {
    "name": "ipython",
    "version": 3
   },
   "file_extension": ".py",
   "mimetype": "text/x-python",
   "name": "python",
   "nbconvert_exporter": "python",
   "pygments_lexer": "ipython3",
   "version": "3.10.12"
  }
 },
 "nbformat": 4,
 "nbformat_minor": 2
}
